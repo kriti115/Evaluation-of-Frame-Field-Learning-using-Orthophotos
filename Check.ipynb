{
 "cells": [
  {
   "cell_type": "code",
   "execution_count": 1,
   "id": "d8a5116f-3349-414f-b2c7-1849ed763150",
   "metadata": {},
   "outputs": [
    {
     "name": "stdout",
     "output_type": "stream",
     "text": [
      "{'intersection': 3162250.4297209242, 'union': 4834171.527422378, 'iou': 0.6541452680738996} \n",
      "\n",
      "Tangent angle:  47.65459495303436\n"
     ]
    }
   ],
   "source": [
    "import json\n",
    "import os\n",
    "\n",
    "iou_path = '/home/jovyan/Polygonization-by-Frame-Field-Learning/data/PrivateDataset/raw/test/images/poly_shapefile.simple.tol_1/aggr_iou.json'\n",
    "metrics_path = '/home/jovyan/Polygonization-by-Frame-Field-Learning/data/PrivateDataset/raw/test/images/poly_shapefile.simple.tol_1/aggr_metrics.json'\n",
    "\n",
    "with open(iou_path) as iou:\n",
    "    data = json.load(iou)\n",
    "print(data, '\\n')\n",
    "\n",
    "with open(metrics_path) as angle:\n",
    "    ang = json.load(angle)\n",
    "    \n",
    "metrics = ang.get('max_angle_diffs')\n",
    "avg = sum(metrics)/len(metrics)\n",
    "\n",
    "print('Tangent angle: ', avg)"
   ]
  },
  {
   "cell_type": "code",
   "execution_count": 2,
   "id": "53e7d48c-0825-4966-94ac-255608e9c002",
   "metadata": {},
   "outputs": [
    {
     "name": "stdout",
     "output_type": "stream",
     "text": [
      "{'intersection': 3088824.648110016, 'union': 4648823.079679886, 'iou': 0.6644315335662784} \n",
      "\n",
      "Tangent angle:  23.091472586704533\n"
     ]
    }
   ],
   "source": [
    "import json\n",
    "\n",
    "iou_path = '/home/jovyan/Polygonization-by-Frame-Field-Learning/data/PrivateDataset/raw/test/images/poly_shapefile.asm.tol_1/aggr_iou.json'\n",
    "metrics_path = '/home/jovyan/Polygonization-by-Frame-Field-Learning/data/PrivateDataset/raw/test/images/poly_shapefile.asm.tol_1/aggr_metrics.json'\n",
    "\n",
    "with open(iou_path) as iou:\n",
    "    data = json.load(iou)\n",
    "print(data, '\\n')\n",
    "\n",
    "with open(metrics_path) as angle:\n",
    "    ang = json.load(angle)\n",
    "    \n",
    "metrics = ang.get('max_angle_diffs')\n",
    "avg = sum(metrics)/len(metrics)\n",
    "\n",
    "print('Tangent angle: ', avg)"
   ]
  },
  {
   "cell_type": "code",
   "execution_count": null,
   "id": "e7a39883-b7b6-4cc8-a36c-f15003170454",
   "metadata": {},
   "outputs": [],
   "source": []
  },
  {
   "cell_type": "code",
   "execution_count": null,
   "id": "e0972946-e216-45f5-9a59-f812034cf1ad",
   "metadata": {},
   "outputs": [],
   "source": []
  }
 ],
 "metadata": {
  "kernelspec": {
   "display_name": "Python 3 (ipykernel)",
   "language": "python",
   "name": "python3"
  },
  "language_info": {
   "codemirror_mode": {
    "name": "ipython",
    "version": 3
   },
   "file_extension": ".py",
   "mimetype": "text/x-python",
   "name": "python",
   "nbconvert_exporter": "python",
   "pygments_lexer": "ipython3",
   "version": "3.9.10"
  }
 },
 "nbformat": 4,
 "nbformat_minor": 5
}
